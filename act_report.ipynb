{
 "cells": [
  {
   "cell_type": "markdown",
   "metadata": {},
   "source": [
    "## Report: act_report\n",
    "* Create a **250-word-minimum written report** called \"act_report.pdf\" or \"act_report.html\" that communicates the insights and displays the visualization(s) produced from your wrangled data. This is to be framed as an external document, like a blog post or magazine article, for example."
   ]
  },
  {
   "cell_type": "markdown",
   "metadata": {},
   "source": [
    "From the analysis made, we asked the following questions which are also answered via visualization using the matplotlib library.\n",
    "\n",
    "**Questions**\n",
    "1. Which of the dog stages is highly rated? \n",
    "From the analysis below, we pick the most common dog stages and plotted it against its count. The most common dog stage found in the data is pupper. It is the most rated dog stage as well.\n",
    "2. Which dog stage has the most retweet and favourite count?\n",
    "From the analysis we see that `Puppo` dog stage has more likes in the tweet data while `Doggo` dog stage has more retweets\n",
    "3. Does the retweets and favorite count influnce the dog rating? \n",
    "From the analysis done, yes, retweets and favorites count influence dog ratings.\n",
    "\n",
    "The plots are as shown on wrangle_act.ipynb file."
   ]
  }
 ],
 "metadata": {
  "kernelspec": {
   "display_name": "Python 3",
   "language": "python",
   "name": "python3"
  },
  "language_info": {
   "codemirror_mode": {
    "name": "ipython",
    "version": 3
   },
   "file_extension": ".py",
   "mimetype": "text/x-python",
   "name": "python",
   "nbconvert_exporter": "python",
   "pygments_lexer": "ipython3",
   "version": "3.6.3"
  }
 },
 "nbformat": 4,
 "nbformat_minor": 2
}
